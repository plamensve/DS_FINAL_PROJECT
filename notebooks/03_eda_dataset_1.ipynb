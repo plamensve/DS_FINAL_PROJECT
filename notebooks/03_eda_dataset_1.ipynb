{
 "cells": [
  {
   "metadata": {},
   "cell_type": "markdown",
   "source": [
    "# Exploratory Data Analysis – Dataset 1\n",
    "\n",
    "This notebook performs a detailed exploratory data analysis (EDA) on Dataset 1.  \n",
    "The goals are to:\n",
    "- Understand the distribution and relationships of the features\n",
    "- Identify important variables related to heart disease\n",
    "- Detect patterns, anomalies, and trends\n",
    "- Generate insights to guide the statistical testing and modeling stages"
   ],
   "id": "155e433a0603809b"
  },
  {
   "metadata": {},
   "cell_type": "markdown",
   "source": "",
   "id": "39261df9371d6066"
  }
 ],
 "metadata": {
  "kernelspec": {
   "display_name": "Python 3",
   "language": "python",
   "name": "python3"
  },
  "language_info": {
   "codemirror_mode": {
    "name": "ipython",
    "version": 2
   },
   "file_extension": ".py",
   "mimetype": "text/x-python",
   "name": "python",
   "nbconvert_exporter": "python",
   "pygments_lexer": "ipython2",
   "version": "2.7.6"
  }
 },
 "nbformat": 4,
 "nbformat_minor": 5
}
