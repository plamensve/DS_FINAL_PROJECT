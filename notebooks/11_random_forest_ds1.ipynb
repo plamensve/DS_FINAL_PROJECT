{
 "cells": [
  {
   "metadata": {},
   "cell_type": "markdown",
   "source": [
    "# Random Forest Classifier – Dataset 1 (Heart Disease Prediction)\n",
    "\n",
    "This notebook demonstrates how to **load a pre-trained Random Forest model** (previously trained on Dataset 1) and use it to make predictions for new patients. Additionally, a simple **Gradio interface** is provided for interactive input and real-time predictions.  \n",
    "\n",
    "## Workflow Description\n",
    "\n",
    "The workflow in this notebook follows these steps:\n",
    "\n",
    "1. **Load pre-trained model and scaler**  \n",
    "   - The Random Forest model and the StandardScaler (fitted during training) are loaded from the `../models/random_forest_ds1/` directory.  \n",
    "\n",
    "2. **Define the prediction function** (`predict_patient`)  \n",
    "   - Takes patient data as input.  \n",
    "   - Converts the input into a DataFrame with the same feature structure used in training.  \n",
    "   - Applies the scaler transformation to match the training distribution.  \n",
    "   - Uses the Random Forest model to make a prediction.  \n",
    "   - Returns the result as text: *Heart Disease* or *No Heart Disease*.  \n",
    "\n",
    "3. **Build the Gradio interface**  \n",
    "   - Gradio provides a graphical interface where users can enter patient data.  \n",
    "   - When the **Predict** button is clicked, Gradio calls the `predict_patient` function.  \n",
    "   - The prediction result is displayed instantly in the interface.  \n",
    "\n",
    "**In short:**  \n",
    "**User Input → Prediction Function (scaling + model) → Gradio Output**  \n",
    "\n"
   ],
   "id": "4b2ba30b14d72415"
  },
  {
   "cell_type": "code",
   "id": "initial_id",
   "metadata": {
    "collapsed": true,
    "ExecuteTime": {
     "end_time": "2025-08-22T15:54:46.842485Z",
     "start_time": "2025-08-22T15:54:45.030826Z"
    }
   },
   "source": [
    "import gradio as gr\n",
    "import pandas as pd\n",
    "import numpy as np \n",
    "import joblib"
   ],
   "outputs": [],
   "execution_count": 1
  },
  {
   "metadata": {
    "ExecuteTime": {
     "end_time": "2025-08-22T15:54:46.863905Z",
     "start_time": "2025-08-22T15:54:46.843245Z"
    }
   },
   "cell_type": "code",
   "source": [
    "data = pd.read_csv('../data/preprocessed_rf/dataset_1_preprocessed.csv')\n",
    "data"
   ],
   "id": "6fab925282a873f3",
   "outputs": [
    {
     "data": {
      "text/plain": [
       "      age  gender  heart_rate  pressure_high  pressure_low  glucose    kcm  \\\n",
       "0      64       1          66            160            83    160.0   1.80   \n",
       "1      21       1          94             98            46    296.0   6.75   \n",
       "2      55       1          64            160            77    270.0   1.99   \n",
       "3      64       1          70            120            55    270.0  13.87   \n",
       "4      55       1          64            112            65    300.0   1.08   \n",
       "...   ...     ...         ...            ...           ...      ...    ...   \n",
       "1311   44       1          94            122            67    204.0   1.63   \n",
       "1312   66       1          84            125            55    149.0   1.33   \n",
       "1313   45       1          85            168           104     96.0   1.24   \n",
       "1314   54       1          58            117            68    443.0   5.80   \n",
       "1315   51       1          94            157            79    134.0  50.89   \n",
       "\n",
       "      troponin  heart_disease  \n",
       "0        0.012              0  \n",
       "1        1.060              1  \n",
       "2        0.003              0  \n",
       "3        0.122              1  \n",
       "4        0.003              0  \n",
       "...        ...            ...  \n",
       "1311     0.006              0  \n",
       "1312     0.172              1  \n",
       "1313     4.250              1  \n",
       "1314     0.359              1  \n",
       "1315     1.770              1  \n",
       "\n",
       "[1316 rows x 9 columns]"
      ],
      "text/html": [
       "<div>\n",
       "<style scoped>\n",
       "    .dataframe tbody tr th:only-of-type {\n",
       "        vertical-align: middle;\n",
       "    }\n",
       "\n",
       "    .dataframe tbody tr th {\n",
       "        vertical-align: top;\n",
       "    }\n",
       "\n",
       "    .dataframe thead th {\n",
       "        text-align: right;\n",
       "    }\n",
       "</style>\n",
       "<table border=\"1\" class=\"dataframe\">\n",
       "  <thead>\n",
       "    <tr style=\"text-align: right;\">\n",
       "      <th></th>\n",
       "      <th>age</th>\n",
       "      <th>gender</th>\n",
       "      <th>heart_rate</th>\n",
       "      <th>pressure_high</th>\n",
       "      <th>pressure_low</th>\n",
       "      <th>glucose</th>\n",
       "      <th>kcm</th>\n",
       "      <th>troponin</th>\n",
       "      <th>heart_disease</th>\n",
       "    </tr>\n",
       "  </thead>\n",
       "  <tbody>\n",
       "    <tr>\n",
       "      <th>0</th>\n",
       "      <td>64</td>\n",
       "      <td>1</td>\n",
       "      <td>66</td>\n",
       "      <td>160</td>\n",
       "      <td>83</td>\n",
       "      <td>160.0</td>\n",
       "      <td>1.80</td>\n",
       "      <td>0.012</td>\n",
       "      <td>0</td>\n",
       "    </tr>\n",
       "    <tr>\n",
       "      <th>1</th>\n",
       "      <td>21</td>\n",
       "      <td>1</td>\n",
       "      <td>94</td>\n",
       "      <td>98</td>\n",
       "      <td>46</td>\n",
       "      <td>296.0</td>\n",
       "      <td>6.75</td>\n",
       "      <td>1.060</td>\n",
       "      <td>1</td>\n",
       "    </tr>\n",
       "    <tr>\n",
       "      <th>2</th>\n",
       "      <td>55</td>\n",
       "      <td>1</td>\n",
       "      <td>64</td>\n",
       "      <td>160</td>\n",
       "      <td>77</td>\n",
       "      <td>270.0</td>\n",
       "      <td>1.99</td>\n",
       "      <td>0.003</td>\n",
       "      <td>0</td>\n",
       "    </tr>\n",
       "    <tr>\n",
       "      <th>3</th>\n",
       "      <td>64</td>\n",
       "      <td>1</td>\n",
       "      <td>70</td>\n",
       "      <td>120</td>\n",
       "      <td>55</td>\n",
       "      <td>270.0</td>\n",
       "      <td>13.87</td>\n",
       "      <td>0.122</td>\n",
       "      <td>1</td>\n",
       "    </tr>\n",
       "    <tr>\n",
       "      <th>4</th>\n",
       "      <td>55</td>\n",
       "      <td>1</td>\n",
       "      <td>64</td>\n",
       "      <td>112</td>\n",
       "      <td>65</td>\n",
       "      <td>300.0</td>\n",
       "      <td>1.08</td>\n",
       "      <td>0.003</td>\n",
       "      <td>0</td>\n",
       "    </tr>\n",
       "    <tr>\n",
       "      <th>...</th>\n",
       "      <td>...</td>\n",
       "      <td>...</td>\n",
       "      <td>...</td>\n",
       "      <td>...</td>\n",
       "      <td>...</td>\n",
       "      <td>...</td>\n",
       "      <td>...</td>\n",
       "      <td>...</td>\n",
       "      <td>...</td>\n",
       "    </tr>\n",
       "    <tr>\n",
       "      <th>1311</th>\n",
       "      <td>44</td>\n",
       "      <td>1</td>\n",
       "      <td>94</td>\n",
       "      <td>122</td>\n",
       "      <td>67</td>\n",
       "      <td>204.0</td>\n",
       "      <td>1.63</td>\n",
       "      <td>0.006</td>\n",
       "      <td>0</td>\n",
       "    </tr>\n",
       "    <tr>\n",
       "      <th>1312</th>\n",
       "      <td>66</td>\n",
       "      <td>1</td>\n",
       "      <td>84</td>\n",
       "      <td>125</td>\n",
       "      <td>55</td>\n",
       "      <td>149.0</td>\n",
       "      <td>1.33</td>\n",
       "      <td>0.172</td>\n",
       "      <td>1</td>\n",
       "    </tr>\n",
       "    <tr>\n",
       "      <th>1313</th>\n",
       "      <td>45</td>\n",
       "      <td>1</td>\n",
       "      <td>85</td>\n",
       "      <td>168</td>\n",
       "      <td>104</td>\n",
       "      <td>96.0</td>\n",
       "      <td>1.24</td>\n",
       "      <td>4.250</td>\n",
       "      <td>1</td>\n",
       "    </tr>\n",
       "    <tr>\n",
       "      <th>1314</th>\n",
       "      <td>54</td>\n",
       "      <td>1</td>\n",
       "      <td>58</td>\n",
       "      <td>117</td>\n",
       "      <td>68</td>\n",
       "      <td>443.0</td>\n",
       "      <td>5.80</td>\n",
       "      <td>0.359</td>\n",
       "      <td>1</td>\n",
       "    </tr>\n",
       "    <tr>\n",
       "      <th>1315</th>\n",
       "      <td>51</td>\n",
       "      <td>1</td>\n",
       "      <td>94</td>\n",
       "      <td>157</td>\n",
       "      <td>79</td>\n",
       "      <td>134.0</td>\n",
       "      <td>50.89</td>\n",
       "      <td>1.770</td>\n",
       "      <td>1</td>\n",
       "    </tr>\n",
       "  </tbody>\n",
       "</table>\n",
       "<p>1316 rows × 9 columns</p>\n",
       "</div>"
      ]
     },
     "execution_count": 2,
     "metadata": {},
     "output_type": "execute_result"
    }
   ],
   "execution_count": 2
  },
  {
   "metadata": {
    "ExecuteTime": {
     "end_time": "2025-08-22T15:54:47.019930Z",
     "start_time": "2025-08-22T15:54:46.864441Z"
    }
   },
   "cell_type": "code",
   "source": [
    "model = joblib.load(\"../models/random_forest_ds1/random_forest_ds1.pkl\")\n",
    "scaler = joblib.load(\"../models/random_forest_ds1/scaler_ds1.pkl\")"
   ],
   "id": "7a4e8585c7fa68e",
   "outputs": [],
   "execution_count": 3
  },
  {
   "metadata": {
    "ExecuteTime": {
     "end_time": "2025-08-22T15:54:47.023152Z",
     "start_time": "2025-08-22T15:54:47.020566Z"
    }
   },
   "cell_type": "code",
   "source": [
    "def predict_patient(age, gender, heart_rate, pressure_high, pressure_low, glucose, kcm, troponin):\n",
    "    patient_dict = {\n",
    "        \"age\": age,\n",
    "        \"gender\": gender,\n",
    "        \"heart_rate\": heart_rate,\n",
    "        \"pressure_high\": pressure_high,\n",
    "        \"pressure_low\": pressure_low,\n",
    "        \"glucose\": glucose,\n",
    "        \"kcm\": kcm,\n",
    "        \"troponin\": troponin\n",
    "    }\n",
    "    new_patient = pd.DataFrame([patient_dict])\n",
    "    new_patient_scaled = scaler.transform(new_patient)\n",
    "    prediction = model.predict(new_patient_scaled)\n",
    "    return \"Result: Heart Disease\" if prediction[0] == 1 else \"Result: No Heart Disease\""
   ],
   "id": "26a8860dae79b587",
   "outputs": [],
   "execution_count": 4
  },
  {
   "metadata": {
    "ExecuteTime": {
     "end_time": "2025-08-22T15:54:48.941886Z",
     "start_time": "2025-08-22T15:54:47.023904Z"
    }
   },
   "cell_type": "code",
   "source": [
    "with gr.Blocks() as demo:\n",
    "    gr.Markdown(\"## Heart Disease Prediction\")\n",
    "\n",
    "    with gr.Row():\n",
    "        with gr.Column():\n",
    "            age = gr.Number(label=\"Age\")\n",
    "            gender = gr.Number(label=\"Gender (0=Female, 1=Male)\")\n",
    "            heart_rate = gr.Number(label=\"Heart Rate\")\n",
    "            pressure_high = gr.Number(label=\"Pressure High\")\n",
    "        with gr.Column():\n",
    "            pressure_low = gr.Number(label=\"Pressure Low\")\n",
    "            glucose = gr.Number(label=\"Glucose\")\n",
    "            kcm = gr.Number(label=\"KCM\")\n",
    "            troponin = gr.Number(label=\"Troponin\")\n",
    "\n",
    "    output = gr.Textbox(label=\"Prediction\", lines=2)\n",
    "\n",
    "    btn = gr.Button(\"Predict\")\n",
    "    btn.click(\n",
    "        predict_patient,\n",
    "        inputs=[age, gender, heart_rate, pressure_high, pressure_low, glucose, kcm, troponin],\n",
    "        outputs=output\n",
    "    )\n",
    "\n",
    "demo.launch(inline=False, share=True)"
   ],
   "id": "4dadb56cafa70dd9",
   "outputs": [
    {
     "name": "stdout",
     "output_type": "stream",
     "text": [
      "* Running on local URL:  http://127.0.0.1:7861\n",
      "* Running on public URL: https://5a1d222dc056484805.gradio.live\n",
      "\n",
      "This share link expires in 1 week. For free permanent hosting and GPU upgrades, run `gradio deploy` from the terminal in the working directory to deploy to Hugging Face Spaces (https://huggingface.co/spaces)\n"
     ]
    },
    {
     "data": {
      "text/plain": []
     },
     "execution_count": 5,
     "metadata": {},
     "output_type": "execute_result"
    }
   ],
   "execution_count": 5
  },
  {
   "metadata": {},
   "cell_type": "markdown",
   "source": [
    "**Note on `share=True`:**  \n",
    "Using `share=True` allows you to generate a public link that can be accessed online with the trained model.  \n",
    "Sometimes, an antivirus program may block this process.  \n",
    "If that happens, you need to allow the application through your antivirus software in order to successfully generate the public link.\n"
   ],
   "id": "643e7b20fd9b4fe7"
  },
  {
   "metadata": {
    "ExecuteTime": {
     "end_time": "2025-08-22T15:54:48.945619Z",
     "start_time": "2025-08-22T15:54:48.943823Z"
    }
   },
   "cell_type": "code",
   "source": "",
   "id": "1038b38159d0fd46",
   "outputs": [],
   "execution_count": 5
  }
 ],
 "metadata": {
  "kernelspec": {
   "display_name": "Python 3",
   "language": "python",
   "name": "python3"
  },
  "language_info": {
   "codemirror_mode": {
    "name": "ipython",
    "version": 2
   },
   "file_extension": ".py",
   "mimetype": "text/x-python",
   "name": "python",
   "nbconvert_exporter": "python",
   "pygments_lexer": "ipython2",
   "version": "2.7.6"
  }
 },
 "nbformat": 4,
 "nbformat_minor": 5
}
