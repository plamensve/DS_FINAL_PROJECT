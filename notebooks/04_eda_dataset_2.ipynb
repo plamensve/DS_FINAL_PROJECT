{
 "cells": [
  {
   "metadata": {},
   "cell_type": "markdown",
   "source": [
    "# Exploratory Data Analysis – Dataset 2\n",
    "\n",
    "This notebook performs a detailed exploratory data analysis (EDA) on Dataset 2.  \n",
    "The goals are to:\n",
    "- Understand the distribution and relationships of the features\n",
    "- Identify important variables related to heart disease\n",
    "- Detect patterns, anomalies, and trends\n",
    "- Generate insights to guide the statistical testing and modeling stages"
   ],
   "id": "cb67176c8d5b00c3"
  },
  {
   "metadata": {},
   "cell_type": "code",
   "outputs": [],
   "execution_count": null,
   "source": "",
   "id": "81c8b7e89f4157e"
  }
 ],
 "metadata": {
  "kernelspec": {
   "display_name": "Python 3",
   "language": "python",
   "name": "python3"
  },
  "language_info": {
   "codemirror_mode": {
    "name": "ipython",
    "version": 2
   },
   "file_extension": ".py",
   "mimetype": "text/x-python",
   "name": "python",
   "nbconvert_exporter": "python",
   "pygments_lexer": "ipython2",
   "version": "2.7.6"
  }
 },
 "nbformat": 4,
 "nbformat_minor": 5
}
