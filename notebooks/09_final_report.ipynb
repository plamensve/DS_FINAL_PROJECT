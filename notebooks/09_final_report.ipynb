{
 "cells": [
  {
   "metadata": {},
   "cell_type": "markdown",
   "source": [
    "# Comparative Analysis of Heart Disease Risk Factors Across Two Independent Datasets\n",
    "\n",
    "## Objective\n",
    "This notebook presents the final report of our Data Science project.  \n",
    "The main goal is to compare two independent heart disease datasets in order to:  \n",
    "- Identify the most important risk factors associated with heart disease.  \n",
    "- Highlight similarities and differences between the two datasets.  \n",
    "- Evaluate and compare the performance of statistical tests and machine learning models.  \n",
    "\n",
    "The notebook is structured as a summary of the entire workflow, focusing on results, visualizations, and key insights rather than technical implementation details.\n"
   ],
   "id": "b9eb3c013e6ee0"
  },
  {
   "metadata": {},
   "cell_type": "markdown",
   "source": "**TODO:** DASHBOARDS (https://plotly.com/, https://www.gradio.app/)\n",
   "id": "556ec21dbe8e837a"
  },
  {
   "metadata": {
    "ExecuteTime": {
     "end_time": "2025-08-21T08:45:09.470995Z",
     "start_time": "2025-08-21T08:45:09.468833Z"
    }
   },
   "cell_type": "code",
   "source": [
    "import plotly.graph_objects as go\n",
    "import pandas as pd\n",
    "import seaborn as sns\n",
    "import matplotlib.pyplot as plt\n",
    "import gradio as gr\n",
    "from matplotlib import image as mpimg"
   ],
   "id": "fe45234fe9dab637",
   "outputs": [],
   "execution_count": 15
  },
  {
   "metadata": {},
   "cell_type": "markdown",
   "source": [
    "\n",
    "## I. Data and Preparation"
   ],
   "id": "85668a05254c2eae"
  },
  {
   "metadata": {},
   "cell_type": "markdown",
   "source": [
    "# Data Overview\n",
    "\n",
    "In this part, we take a first look at the two datasets we’ll be working with.  \n",
    "The idea is simple: understand what’s inside, how clean they are, and what kind of features we’re dealing with.  \n",
    "This will guide all the next steps like preprocessing, analysis, and modeling."
   ],
   "id": "6b52a4b3b4bdd287"
  },
  {
   "metadata": {},
   "cell_type": "markdown",
   "source": [
    "### Dataset 1\n",
    "- Rows: 1319  \n",
    "- Columns: 9  \n",
    "- Target variable: `heart_disease` (0 = no, 1 = yes)  \n",
    "- Mix of numeric (age, heart_rate, pressure_high, pressure_low, glucose, kcm, troponin) and categorical features (gender).  \n",
    "\n",
    "**Quick notes:**  \n",
    "- No major missing values.  \n",
    "- Some columns have strong imbalance (more women than men ~ 66/34).  \n",
    "- Age seems normally distributed, while other features appear asymmetrically distributed\n",
    "- We used boxplots to check for outliers and to compare the two target groups (healthy vs. heart disease).  \n",
    "From the plots, it’s clear that many features contain outliers.  \n",
    "However, the groups of healthy and sick patients look fairly balanced in terms of distribution.  \n",
    "This can be seen by looking at the position of the 25th percentile and the median (50th percentile), which are placed in a similar way for both groups.\n",
    "\n",
    "\n",
    "**Correlation Analysis**\n",
    "\n",
    "The correlation matrix shows generally weak relationships between most features.  \n",
    "Some higher correlations are observed for `age`, `kcm`, and `troponin` when using the **Pearson** method.  \n",
    "With **Spearman**, we notice a similar pattern, but certain features, such as `troponin`, show stronger correlation with the target variable.  \n",
    "\n",
    "The key point here is that the choice of correlation method matters:  \n",
    "- For features that are normally distributed and have linear relationships, Pearson correlation is appropriate.  \n",
    "- For features that are not normally distributed, Spearman correlation is recommended.  \n",
    "- For categorical variables, it’s not good practice to use correlation; instead, tests like **Chi-Square** are more suitable."
   ],
   "id": "faa83f35f27bcdb5"
  },
  {
   "metadata": {},
   "cell_type": "markdown",
   "source": [
    "### Dataset 2\n",
    "- Rows: 1000  \n",
    "- Columns: 16  \n",
    "- Target variable: `heart_disease` (0 = no, 1 = yes)  \n",
    "- Mix of numeric (age, cholesterol, pressure_high, heart_rate, exercise_hours, blood_sugar, troponin) \n",
    "and categorical features (gender, smoking, alcohol_intake, family_history, diabetes, obesity, stress_level, exercise_induced_angina).  \n",
    "\n",
    "**Quick notes:**  \n",
    "- No major missing values.  \n",
    "- Gender column is quite balanced (50.3/49.7)  \n",
    "- At first glance, the features Age, Cholesterol, Pressure High, Heart Rate, and Blood Sugar appear to follow a distribution close to normal. This observation suggests that these variables are relatively well-behaved and suitable for statistical analyses that assume normality.\n",
    "\n",
    "**Correlation analysis**\n",
    "\n",
    "The correlation matrix for Dataset 2 shows that most features are largely independent of each other, indicating a low risk of multicollinearity in modeling.\n",
    "The strongest correlations with heart disease are observed for:\n",
    "`Age` (r ≈ 0.65) – older patients are more likely to have heart disease.\n",
    "`Cholesterol` (r ≈ 0.37) – higher cholesterol levels are moderately associated with heart disease.\n",
    "Other features show little to no linear correlation with the target. However, this does not mean they are irrelevant — their impact may be non-linear or only visible when combined with other risk factors.\n",
    "This information is useful for feature selection, ensuring model stability, and guiding further analysis of possible interactions between variables.\n",
    "\n",
    "The key point here is that the choice of correlation method matters:  \n",
    "- For features that are normally distributed and have linear relationships, Pearson correlation is appropriate.  \n",
    "- For features that are not normally distributed, Spearman correlation is recommended.  \n",
    "- For categorical variables, it’s not good practice to use correlation; instead, tests like **Chi-Square** are more suitable."
   ],
   "id": "548d096ea8fc33f4"
  },
  {
   "metadata": {},
   "cell_type": "markdown",
   "source": "",
   "id": "4940fa13db80831d"
  }
 ],
 "metadata": {
  "kernelspec": {
   "display_name": "Python 3",
   "language": "python",
   "name": "python3"
  },
  "language_info": {
   "codemirror_mode": {
    "name": "ipython",
    "version": 2
   },
   "file_extension": ".py",
   "mimetype": "text/x-python",
   "name": "python",
   "nbconvert_exporter": "python",
   "pygments_lexer": "ipython2",
   "version": "2.7.6"
  }
 },
 "nbformat": 4,
 "nbformat_minor": 5
}
