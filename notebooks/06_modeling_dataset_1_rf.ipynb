{
 "cells": [
  {
   "metadata": {},
   "cell_type": "markdown",
   "source": [
    "# Predictive Modeling with Random Forest - Dataset 1  \n",
    "\n",
    "In this section, we extend the modeling of **Dataset 1** by applying a **Random Forest Classifier**.  \n",
    "The main goals are:  \n",
    "\n",
    "- Train and evaluate a Random Forest model on the same preprocessed data.  \n",
    "- Compare its performance against the baseline Logistic Regression.  \n",
    "- Assess model performance using Accuracy, Precision, Recall, F1-score, Confusion Matrix, and ROC-AUC.  \n",
    "- Analyze feature importance to understand which variables contribute most to predictions.  \n",
    "- Establish a foundation for cross-dataset comparison with Dataset 2.  \n"
   ],
   "id": "5497ec08f58f35ba"
  },
  {
   "cell_type": "code",
   "id": "initial_id",
   "metadata": {
    "collapsed": true,
    "ExecuteTime": {
     "end_time": "2025-08-19T11:03:04.280882Z",
     "start_time": "2025-08-19T11:03:04.278684Z"
    }
   },
   "source": [
    "import pandas as pd\n",
    "import numpy as np\n",
    "import matplotlib.pyplot as plt\n",
    "import seaborn as sns\n",
    "\n",
    "from sklearn.ensemble import RandomForestClassifier\n",
    "from sklearn.metrics import classification_report, confusion_matrix, RocCurveDisplay\n",
    "from sklearn.preprocessing import StandardScaler\n",
    "from sklearn.model_selection import train_test_split, StratifiedKFold, cross_val_score"
   ],
   "outputs": [],
   "execution_count": 9
  },
  {
   "metadata": {
    "ExecuteTime": {
     "end_time": "2025-08-19T11:03:04.290885Z",
     "start_time": "2025-08-19T11:03:04.281789Z"
    }
   },
   "cell_type": "code",
   "source": [
    "data = pd.read_csv('../data/cleaned_data/dataset1_cleaned.csv')\n",
    "data"
   ],
   "id": "1a262fc7a578aa0d",
   "outputs": [
    {
     "data": {
      "text/plain": [
       "      age  gender  heart_rate  pressure_high  pressure_low  glucose    kcm  \\\n",
       "0      64       1          66            160            83    160.0   1.80   \n",
       "1      21       1          94             98            46    296.0   6.75   \n",
       "2      55       1          64            160            77    270.0   1.99   \n",
       "3      64       1          70            120            55    270.0  13.87   \n",
       "4      55       1          64            112            65    300.0   1.08   \n",
       "...   ...     ...         ...            ...           ...      ...    ...   \n",
       "1311   44       1          94            122            67    204.0   1.63   \n",
       "1312   66       1          84            125            55    149.0   1.33   \n",
       "1313   45       1          85            168           104     96.0   1.24   \n",
       "1314   54       1          58            117            68    443.0   5.80   \n",
       "1315   51       1          94            157            79    134.0  50.89   \n",
       "\n",
       "      troponin  heart_disease  \n",
       "0        0.012              0  \n",
       "1        1.060              1  \n",
       "2        0.003              0  \n",
       "3        0.122              1  \n",
       "4        0.003              0  \n",
       "...        ...            ...  \n",
       "1311     0.006              0  \n",
       "1312     0.172              1  \n",
       "1313     4.250              1  \n",
       "1314     0.359              1  \n",
       "1315     1.770              1  \n",
       "\n",
       "[1316 rows x 9 columns]"
      ],
      "text/html": [
       "<div>\n",
       "<style scoped>\n",
       "    .dataframe tbody tr th:only-of-type {\n",
       "        vertical-align: middle;\n",
       "    }\n",
       "\n",
       "    .dataframe tbody tr th {\n",
       "        vertical-align: top;\n",
       "    }\n",
       "\n",
       "    .dataframe thead th {\n",
       "        text-align: right;\n",
       "    }\n",
       "</style>\n",
       "<table border=\"1\" class=\"dataframe\">\n",
       "  <thead>\n",
       "    <tr style=\"text-align: right;\">\n",
       "      <th></th>\n",
       "      <th>age</th>\n",
       "      <th>gender</th>\n",
       "      <th>heart_rate</th>\n",
       "      <th>pressure_high</th>\n",
       "      <th>pressure_low</th>\n",
       "      <th>glucose</th>\n",
       "      <th>kcm</th>\n",
       "      <th>troponin</th>\n",
       "      <th>heart_disease</th>\n",
       "    </tr>\n",
       "  </thead>\n",
       "  <tbody>\n",
       "    <tr>\n",
       "      <th>0</th>\n",
       "      <td>64</td>\n",
       "      <td>1</td>\n",
       "      <td>66</td>\n",
       "      <td>160</td>\n",
       "      <td>83</td>\n",
       "      <td>160.0</td>\n",
       "      <td>1.80</td>\n",
       "      <td>0.012</td>\n",
       "      <td>0</td>\n",
       "    </tr>\n",
       "    <tr>\n",
       "      <th>1</th>\n",
       "      <td>21</td>\n",
       "      <td>1</td>\n",
       "      <td>94</td>\n",
       "      <td>98</td>\n",
       "      <td>46</td>\n",
       "      <td>296.0</td>\n",
       "      <td>6.75</td>\n",
       "      <td>1.060</td>\n",
       "      <td>1</td>\n",
       "    </tr>\n",
       "    <tr>\n",
       "      <th>2</th>\n",
       "      <td>55</td>\n",
       "      <td>1</td>\n",
       "      <td>64</td>\n",
       "      <td>160</td>\n",
       "      <td>77</td>\n",
       "      <td>270.0</td>\n",
       "      <td>1.99</td>\n",
       "      <td>0.003</td>\n",
       "      <td>0</td>\n",
       "    </tr>\n",
       "    <tr>\n",
       "      <th>3</th>\n",
       "      <td>64</td>\n",
       "      <td>1</td>\n",
       "      <td>70</td>\n",
       "      <td>120</td>\n",
       "      <td>55</td>\n",
       "      <td>270.0</td>\n",
       "      <td>13.87</td>\n",
       "      <td>0.122</td>\n",
       "      <td>1</td>\n",
       "    </tr>\n",
       "    <tr>\n",
       "      <th>4</th>\n",
       "      <td>55</td>\n",
       "      <td>1</td>\n",
       "      <td>64</td>\n",
       "      <td>112</td>\n",
       "      <td>65</td>\n",
       "      <td>300.0</td>\n",
       "      <td>1.08</td>\n",
       "      <td>0.003</td>\n",
       "      <td>0</td>\n",
       "    </tr>\n",
       "    <tr>\n",
       "      <th>...</th>\n",
       "      <td>...</td>\n",
       "      <td>...</td>\n",
       "      <td>...</td>\n",
       "      <td>...</td>\n",
       "      <td>...</td>\n",
       "      <td>...</td>\n",
       "      <td>...</td>\n",
       "      <td>...</td>\n",
       "      <td>...</td>\n",
       "    </tr>\n",
       "    <tr>\n",
       "      <th>1311</th>\n",
       "      <td>44</td>\n",
       "      <td>1</td>\n",
       "      <td>94</td>\n",
       "      <td>122</td>\n",
       "      <td>67</td>\n",
       "      <td>204.0</td>\n",
       "      <td>1.63</td>\n",
       "      <td>0.006</td>\n",
       "      <td>0</td>\n",
       "    </tr>\n",
       "    <tr>\n",
       "      <th>1312</th>\n",
       "      <td>66</td>\n",
       "      <td>1</td>\n",
       "      <td>84</td>\n",
       "      <td>125</td>\n",
       "      <td>55</td>\n",
       "      <td>149.0</td>\n",
       "      <td>1.33</td>\n",
       "      <td>0.172</td>\n",
       "      <td>1</td>\n",
       "    </tr>\n",
       "    <tr>\n",
       "      <th>1313</th>\n",
       "      <td>45</td>\n",
       "      <td>1</td>\n",
       "      <td>85</td>\n",
       "      <td>168</td>\n",
       "      <td>104</td>\n",
       "      <td>96.0</td>\n",
       "      <td>1.24</td>\n",
       "      <td>4.250</td>\n",
       "      <td>1</td>\n",
       "    </tr>\n",
       "    <tr>\n",
       "      <th>1314</th>\n",
       "      <td>54</td>\n",
       "      <td>1</td>\n",
       "      <td>58</td>\n",
       "      <td>117</td>\n",
       "      <td>68</td>\n",
       "      <td>443.0</td>\n",
       "      <td>5.80</td>\n",
       "      <td>0.359</td>\n",
       "      <td>1</td>\n",
       "    </tr>\n",
       "    <tr>\n",
       "      <th>1315</th>\n",
       "      <td>51</td>\n",
       "      <td>1</td>\n",
       "      <td>94</td>\n",
       "      <td>157</td>\n",
       "      <td>79</td>\n",
       "      <td>134.0</td>\n",
       "      <td>50.89</td>\n",
       "      <td>1.770</td>\n",
       "      <td>1</td>\n",
       "    </tr>\n",
       "  </tbody>\n",
       "</table>\n",
       "<p>1316 rows × 9 columns</p>\n",
       "</div>"
      ]
     },
     "execution_count": 10,
     "metadata": {},
     "output_type": "execute_result"
    }
   ],
   "execution_count": 10
  },
  {
   "metadata": {
    "ExecuteTime": {
     "end_time": "2025-08-19T11:03:04.298198Z",
     "start_time": "2025-08-19T11:03:04.291498Z"
    }
   },
   "cell_type": "code",
   "source": [
    "X = data.drop('heart_disease', axis=1)\n",
    "y = data['heart_disease']\n",
    "\n",
    "X_train, X_test, y_train, y_test = train_test_split(X, y, test_size=0.2, random_state=42, stratify=y)\n",
    "\n",
    "scaler = StandardScaler()\n",
    "X_train_scaled = scaler.fit_transform(X_train)\n",
    "X_test_scaled = scaler.transform(X_test)"
   ],
   "id": "154f7665866c312b",
   "outputs": [],
   "execution_count": 11
  },
  {
   "metadata": {
    "ExecuteTime": {
     "end_time": "2025-08-19T11:03:04.601200Z",
     "start_time": "2025-08-19T11:03:04.299125Z"
    }
   },
   "cell_type": "code",
   "source": [
    "# Initialize Random Forest model\n",
    "rf_model = RandomForestClassifier(\n",
    "    n_estimators=100,       \n",
    "    random_state=42,\n",
    "    max_depth=None,         \n",
    "    class_weight=\"balanced\"\n",
    ")\n",
    "\n",
    "# Train the model\n",
    "rf_model.fit(X_train_scaled, y_train)\n",
    "\n",
    "# Predict on test set\n",
    "y_pred_rf = rf_model.predict(X_test_scaled)\n",
    "\n",
    "# Evaluate performance\n",
    "print(\"Classification Report - Random Forest:\\n\")\n",
    "print(classification_report(y_test, y_pred_rf))\n",
    "\n",
    "# Confusion Matrix\n",
    "cm_rf = confusion_matrix(y_test, y_pred_rf)\n",
    "\n",
    "sns.heatmap(cm_rf, \n",
    "            annot=True, \n",
    "            fmt='d', \n",
    "            cmap='Greens', \n",
    "            xticklabels=[0,1], \n",
    "            yticklabels=[0,1])\n",
    "\n",
    "plt.xlabel(\"Predicted\")\n",
    "plt.ylabel(\"Actual\")\n",
    "plt.title(\"Confusion Matrix - Random Forest (Dataset 2)\")\n",
    "plt.show()\n",
    "\n",
    "# ROC Curve\n",
    "RocCurveDisplay.from_estimator(rf_model, X_test_scaled, y_test)\n",
    "plt.title(\"ROC Curve - Random Forest (Dataset 2)\")\n",
    "plt.show()\n",
    "\n",
    "# Feature Importance\n",
    "importances = rf_model.feature_importances_\n",
    "feat_importance = pd.DataFrame({\n",
    "    \"Feature\": X.columns,\n",
    "    \"Importance\": importances\n",
    "}).sort_values(by=\"Importance\", ascending=False)\n",
    "\n",
    "plt.figure(figsize=(10,6))\n",
    "\n",
    "sns.barplot(\n",
    "    data=feat_importance.head(15),\n",
    "    x=\"Importance\",\n",
    "    y=\"Feature\",\n",
    "    hue=\"Feature\",        \n",
    "    dodge=False,\n",
    "    palette=\"viridis\",\n",
    "    legend=False\n",
    ")\n",
    "\n",
    "plt.title(\"Top Feature Importances - Random Forest\")\n",
    "plt.show()"
   ],
   "id": "e670e0269ff8d32a",
   "outputs": [
    {
     "name": "stdout",
     "output_type": "stream",
     "text": [
      "Classification Report - Random Forest:\n",
      "\n",
      "              precision    recall  f1-score   support\n",
      "\n",
      "           0       1.00      0.98      0.99       102\n",
      "           1       0.99      1.00      0.99       162\n",
      "\n",
      "    accuracy                           0.99       264\n",
      "   macro avg       0.99      0.99      0.99       264\n",
      "weighted avg       0.99      0.99      0.99       264\n",
      "\n"
     ]
    },
    {
     "data": {
      "text/plain": [
       "<Figure size 640x480 with 2 Axes>"
      ],
      "image/png": "[encoded data removed]"
     },
     "metadata": {},
     "output_type": "display_data"
    },
    {
     "data": {
      "text/plain": [
       "<Figure size 640x480 with 1 Axes>"
      ],
      "image/png": "[encoded data removed]"
     },
     "metadata": {},
     "output_type": "display_data"
    },
    {
     "data": {
      "text/plain": [
       "<Figure size 1000x600 with 1 Axes>"
      ],
      "image/png": "[encoded data removed]"
     },
     "metadata": {},
     "output_type": "display_data"
    }
   ],
   "execution_count": 12
  },
  {
   "metadata": {},
   "cell_type": "markdown",
   "source": [
    "## Summary - Random Forest Modeling (Dataset 2)\n",
    "\n",
    "The Random Forest model achieved **very high predictive performance** on Dataset 2, with an overall accuracy of **99%**.  \n",
    "Both classes (disease and no disease) were predicted with excellent precision, recall, and F1-scores:\n",
    "\n",
    "- **Class 0 (No Disease):** Precision = 1.00, Recall = 0.98, F1 = 0.99  \n",
    "- **Class 1 (Disease):** Precision = 0.99, Recall = 1.00, F1 = 0.99  \n",
    "- **ROC-AUC = 1.00**, indicating near-perfect separability.\n",
    "\n",
    "The confusion matrix shows that only **2 misclassifications** occurred out of 264 test samples, which demonstrates the model’s robustness.\n",
    "\n",
    "### Feature Importances\n",
    "- The most important feature in the Random Forest model was **Troponin**, followed by **KCM** and **Age**.  \n",
    "- This is a more clinically consistent result compared to the Logistic Regression model, where **KCM** appeared as the most influential predictor.  \n",
    "- Troponin, being a well-established biomarker for heart damage, logically dominates the model’s predictive power, which increases confidence in the model’s interpretability.\n",
    "\n",
    "### Key Takeaways\n",
    "- Random Forest provides a more reliable and clinically interpretable result compared to Logistic Regression on this dataset.  \n",
    "- The dominance of **Troponin** as the top predictor highlights its medical relevance and validates the model.  \n",
    "- The model is highly accurate, but such near-perfect performance could suggest possible **overfitting**, and further validation on external or cross-validation sets may be beneficial.\n",
    "\n",
    "**In summary:** Random Forest outperforms Logistic Regression on Dataset 2, both in predictive accuracy and in providing feature importances that align better with medical expectations.\n"
   ],
   "id": "9fe83995ecf82f31"
  },
  {
   "metadata": {},
   "cell_type": "markdown",
   "source": [
    "## Cross-Validation with Random Forest  \n",
    "\n",
    "To validate the robustness of our Random Forest model, we perform k-fold cross-validation.  \n",
    "This method splits the dataset into *k* subsets (folds), trains the model on *k-1* folds,  \n",
    "and evaluates it on the remaining fold. Repeating this process *k* times provides a more  \n",
    "reliable estimate of model performance and helps detect potential overfitting.  "
   ],
   "id": "d45b8bfb895bf80c"
  },
  {
   "metadata": {
    "ExecuteTime": {
     "end_time": "2025-08-19T11:03:05.091004Z",
     "start_time": "2025-08-19T11:03:04.601983Z"
    }
   },
   "cell_type": "code",
   "source": [
    "rf_model = RandomForestClassifier(random_state=42)\n",
    "\n",
    "cv = StratifiedKFold(n_splits=5, shuffle=True, random_state=42)\n",
    "\n",
    "cv_scores = cross_val_score(rf_model, X, y, cv=cv, scoring='accuracy')\n",
    "\n",
    "print(\"Cross-validation scores:\", cv_scores)\n",
    "print(\"Mean CV accuracy:\", np.mean(cv_scores))\n",
    "print(\"Standard deviation:\", np.std(cv_scores))"
   ],
   "id": "fe4a4c087821765e",
   "outputs": [
    {
     "name": "stdout",
     "output_type": "stream",
     "text": [
      "Cross-validation scores: [0.99621212 0.98098859 0.98098859 0.99239544 0.98479087]\n",
      "Mean CV accuracy: 0.9870751238621962\n",
      "Standard deviation: 0.006182231997616848\n"
     ]
    }
   ],
   "execution_count": 13
  },
  {
   "metadata": {},
   "cell_type": "markdown",
   "source": [
    "### Cross-Validation Results (Random Forest – Dataset 1)\n",
    "\n",
    "To validate the robustness of the model and reduce the risk of overfitting, we applied **Stratified K-Fold Cross-Validation (k=5)**.  \n",
    "\n",
    "**Results:**\n",
    "- Cross-validation scores: [0.996, 0.981, 0.981, 0.992, 0.985]  \n",
    "- **Mean CV accuracy: 0.987**  \n",
    "- **Standard deviation: 0.006**\n",
    "\n",
    "### Interpretation\n",
    "The model shows an exceptionally high mean accuracy (~98.7%) with a very low standard deviation (~0.6%).  \n",
    "This indicates that the results are stable and consistent across different folds, confirming the reliability of the Random Forest model.  \n",
    "\n",
    "Compared to Logistic Regression, Random Forest:\n",
    "- Achieves higher accuracy and stronger generalization.  \n",
    "- Highlights **Troponin** as the most important predictive feature, which is a more medically consistent finding than Logistic Regression (where KCM appeared as the strongest predictor).  \n"
   ],
   "id": "7385bfb0dc6bfead"
  },
  {
   "metadata": {},
   "cell_type": "code",
   "outputs": [],
   "execution_count": null,
   "source": "",
   "id": "3a5e5eb68a518faf"
  }
 ],
 "metadata": {
  "kernelspec": {
   "display_name": "Python 3",
   "language": "python",
   "name": "python3"
  },
  "language_info": {
   "codemirror_mode": {
    "name": "ipython",
    "version": 2
   },
   "file_extension": ".py",
   "mimetype": "text/x-python",
   "name": "python",
   "nbconvert_exporter": "python",
   "pygments_lexer": "ipython2",
   "version": "2.7.6"
  }
 },
 "nbformat": 4,
 "nbformat_minor": 5
}
